{
 "cells": [
  {
   "cell_type": "code",
   "execution_count": 1,
   "id": "83596a67",
   "metadata": {},
   "outputs": [],
   "source": [
    "import sys\n",
    "\n",
    "INF = float('inf')\n",
    "\n",
    "def StoneMerge(A): # The values are stored in A[1], A[2] .... A[n].\n",
    "                    # And A[0] = 0\n",
    "    n = len(A)\n",
    "    a = [0] + A\n",
    "    sum_a = [0] * (n + 1)\n",
    "    dp_min = [[INF] * (n + 1) for _ in range(n + 1)]\n",
    "    dp_max = [[-INF] * (n + 1) for _ in range(n + 1)]\n",
    "\n",
    "    for i in range(1, n + 1):\n",
    "        sum_a[i] = sum_a[i - 1] + a[i]\n",
    "\n",
    "    for length in range(1, n + 1):\n",
    "        for i in range(1, n - length + 2):\n",
    "            j = i + length - 1\n",
    "            if length == 1:\n",
    "                dp_min[i][j] = 0\n",
    "                dp_max[i][j] = 0\n",
    "            else:\n",
    "                for k in range(i, j):\n",
    "                    dp_min[i][j] = min(dp_min[i][j], dp_min[i][k] + dp_min[k + 1][j] + sum_a[j] - sum_a[i - 1])\n",
    "                    dp_max[i][j] = max(dp_max[i][j], dp_max[i][k] + dp_max[k + 1][j] + sum_a[j] - sum_a[i - 1])\n",
    "\n",
    "    return dp_min[1][n], dp_max[1][n]\n",
    "    pass"
   ]
  },
  {
   "cell_type": "code",
   "execution_count": 2,
   "id": "2b701891",
   "metadata": {},
   "outputs": [
    {
     "data": {
      "text/plain": [
       "(79, 122)"
      ]
     },
     "execution_count": 2,
     "metadata": {},
     "output_type": "execute_result"
    }
   ],
   "source": [
    "A = [3, 2, 8, 1, 5, 6, 4]\n",
    "StoneMerge(A)"
   ]
  },
  {
   "cell_type": "code",
   "execution_count": 3,
   "id": "2a386c3d",
   "metadata": {},
   "outputs": [
    {
     "data": {
      "text/plain": [
       "(60, 73)"
      ]
     },
     "execution_count": 3,
     "metadata": {},
     "output_type": "execute_result"
    }
   ],
   "source": [
    "A = [5, 7, 3, 5, 6]\n",
    "StoneMerge(A)"
   ]
  },
  {
   "cell_type": "code",
   "execution_count": 4,
   "id": "2175bdc1",
   "metadata": {},
   "outputs": [
    {
     "name": "stdout",
     "output_type": "stream",
     "text": [
      "79\n"
     ]
    }
   ],
   "source": [
    "def mergeStones(stones, K):\n",
    "    n = len(stones)\n",
    "    if (n - 1) % (K - 1) != 0:\n",
    "        return -1\n",
    "    prefix_sum = [0] * (n + 1)\n",
    "    for i in range(n):\n",
    "        prefix_sum[i + 1] = prefix_sum[i] + stones[i]\n",
    "    dp = [[0] * n for _ in range(n)]\n",
    "    for m in range(K, n + 1):\n",
    "        for i in range(n - m + 1):\n",
    "            j = i + m - 1\n",
    "            dp[i][j] = min(dp[i][k] + dp[k + 1][j] for k in range(i, j, K - 1))\n",
    "            if m % (K - 1) == 0:\n",
    "                dp[i][j] += prefix_sum[j + 1] - prefix_sum[i]\n",
    "    return dp[0][n - 1]\n",
    "print(mergeStones([3, 2, 8, 1, 5, 6, 4], 2))"
   ]
  },
  {
   "cell_type": "code",
   "execution_count": 6,
   "id": "c0467979",
   "metadata": {},
   "outputs": [
    {
     "name": "stdout",
     "output_type": "stream",
     "text": [
      "175\n"
     ]
    }
   ],
   "source": [
    "# @Time   :2018/5/21\n",
    "# @Author :Yinxing\n",
    " \n",
    "def toneMerge(tone):\n",
    "    n = len(tone)\n",
    "    if n<=1: return 0\n",
    "    if n==2: return sum(tone)  # 长度为2时，就是这两堆石头的和\n",
    " \n",
    "    dp = [[float('inf')]*n for _ in range(n)]  # 初始化dp\n",
    "    for i in range(n): dp[i][i] = 0\n",
    "    sm = [tone[0]]  # 记录 列表从0 到 n 的累加和\n",
    "    for i in range(1, n): sm.append(sm[i-1]+tone[i])  # 累加求和\n",
    " \n",
    "    for gap in range(1, n):  # i 到 j 的间隔\n",
    "        for i in range(n-gap):\n",
    "            j = i + gap  # 确定本次  i--j\n",
    "            tmp = sm[j] - [0, sm[i-1]][i > 0]  # 获取第 i 到第 j 堆石子的总数量\n",
    "            for k in range(i, j):  # 选择i 到 j 的最优解\n",
    "                dp[i][j] = min(dp[i][j],  dp[i][k] + dp[k+1][j] + tmp)\n",
    " \n",
    "    return dp[0][n-1]\n",
    " \n",
    " \n",
    "if __name__ == '__main__':\n",
    "    tone = [7, 6, 5, 7, 100]  # 175\n",
    "    # tone = [3, 4, 5, 6, 4, 2]  # 61\n",
    "    # tone = [1, 2, 3, 4, 5]  # 33\n",
    "    # tone = [186, 64, 35, 32, 103]  # 852\n",
    "    print(toneMerge(tone))"
   ]
  },
  {
   "cell_type": "code",
   "execution_count": 10,
   "id": "a44311dd",
   "metadata": {},
   "outputs": [
    {
     "data": {
      "text/plain": [
       "(852, 1272)"
      ]
     },
     "execution_count": 10,
     "metadata": {},
     "output_type": "execute_result"
    }
   ],
   "source": [
    "A = [186, 64, 35, 32, 103]\n",
    "StoneMerge(A)"
   ]
  },
  {
   "cell_type": "code",
   "execution_count": null,
   "id": "942f7353",
   "metadata": {},
   "outputs": [],
   "source": []
  }
 ],
 "metadata": {
  "kernelspec": {
   "display_name": "Python 3 (ipykernel)",
   "language": "python",
   "name": "python3"
  },
  "language_info": {
   "codemirror_mode": {
    "name": "ipython",
    "version": 3
   },
   "file_extension": ".py",
   "mimetype": "text/x-python",
   "name": "python",
   "nbconvert_exporter": "python",
   "pygments_lexer": "ipython3",
   "version": "3.10.9"
  }
 },
 "nbformat": 4,
 "nbformat_minor": 5
}
