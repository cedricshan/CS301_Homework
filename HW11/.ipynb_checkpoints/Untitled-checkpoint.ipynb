{
 "cells": [
  {
   "cell_type": "code",
   "execution_count": null,
   "id": "a6cf503a",
   "metadata": {},
   "outputs": [],
   "source": [
    "import math\n",
    "\n",
    "INF = math.inf\n",
    "\n",
    "class Graph:\n",
    "    def __init__(self, vertices):\n",
    "        self.V = vertices\n",
    "        self.graph = []\n",
    "\n",
    "    def add_edge(self, u, v, w):\n",
    "        self.graph.append([u, v, w])\n",
    "\n",
    "    def bellman_ford(self, source):\n",
    "        \n",
    "        dist = [INF] * self.V\n",
    "        dist[source] = 0\n",
    "\n",
    "        for i in range(self.V - 1):\n",
    "            for u, v, w in self.graph:\n",
    "                if dist[u] != INF and dist[u] + w < dist[v]:\n",
    "                    dist[v] = dist[u] + w\n",
    "\n",
    "        for u, v, w in self.graph:\n",
    "            if dist[u] != INF and dist[u] + w < dist[v]:\n",
    "                print(\"Graph contains negative weight cycle\")\n",
    "                return\n",
    "\n",
    "        print(\"The Shortest Path Distance from Source:\")\n",
    "        for i in range(self.V):\n",
    "            print(f\"{i} \\t\\t {dist[i]}\")\n",
    "\n",
    "# Test cases\n",
    "g = Graph(5)\n",
    "g.add_edge(0, 1, 6)\n",
    "g.add_edge(0, 2, 7)\n",
    "g.add_edge(1, 2, 8)\n",
    "g.add_edge(1, 3, 5)\n",
    "g.add_edge(2, 3, -4)\n",
    "g.add_edge(2, 4, 9)\n",
    "g.add_edge(3, 4, 10)\n",
    "\n",
    "g.bellman_ford(0)\n"
   ]
  },
  {
   "cell_type": "code",
   "execution_count": null,
   "id": "ed64ad7d",
   "metadata": {},
   "outputs": [],
   "source": []
  }
 ],
 "metadata": {
  "kernelspec": {
   "display_name": "Python 3 (ipykernel)",
   "language": "python",
   "name": "python3"
  },
  "language_info": {
   "codemirror_mode": {
    "name": "ipython",
    "version": 3
   },
   "file_extension": ".py",
   "mimetype": "text/x-python",
   "name": "python",
   "nbconvert_exporter": "python",
   "pygments_lexer": "ipython3",
   "version": "3.10.9"
  }
 },
 "nbformat": 4,
 "nbformat_minor": 5
}
