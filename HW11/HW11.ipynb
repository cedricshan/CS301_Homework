{
 "cells": [
  {
   "cell_type": "code",
   "execution_count": 1,
   "id": "0ab117fc",
   "metadata": {},
   "outputs": [],
   "source": [
    "import math\n",
    "\n",
    "INF = math.inf\n",
    "\n",
    "class Graph:\n",
    "    def __init__(self, vertices):\n",
    "        self.V = vertices\n",
    "        self.graph = []\n",
    "\n",
    "    def add_edge(self, u, v, w):\n",
    "        self.graph.append([u, v, w])\n",
    "\n",
    "    def bellman_ford(self, source):\n",
    "        \n",
    "        dist = [INF] * self.V\n",
    "        dist[source] = 0\n",
    "\n",
    "        for i in range(self.V - 1):\n",
    "            for u, v, w in self.graph:\n",
    "                if dist[u] != INF and dist[u] + w < dist[v]:\n",
    "                    dist[v] = dist[u] + w\n",
    "\n",
    "        for u, v, w in self.graph:\n",
    "            if dist[u] != INF and dist[u] + w < dist[v]:\n",
    "                print(\"Graph contains negative weight cycle\")\n",
    "                return\n",
    "\n",
    "        print(\"The Shortest Path Distance from Source:\")\n",
    "        for i in range(self.V):\n",
    "            print(f\"Vertex: {i} \\t\\t Distance: {dist[i]}\")\n"
   ]
  },
  {
   "cell_type": "code",
   "execution_count": 2,
   "id": "a4b3e0fa",
   "metadata": {},
   "outputs": [
    {
     "name": "stdout",
     "output_type": "stream",
     "text": [
      "The Shortest Path Distance from Source:\n",
      "Vertex: 0 \t\t Distance: 0\n",
      "Vertex: 1 \t\t Distance: 1\n",
      "Vertex: 2 \t\t Distance: 2\n",
      "Vertex: 3 \t\t Distance: 1\n",
      "Vertex: 4 \t\t Distance: 4\n",
      "Vertex: 5 \t\t Distance: 3\n",
      "Vertex: 6 \t\t Distance: 6\n"
     ]
    }
   ],
   "source": [
    "# Test case1\n",
    "g = Graph(7)\n",
    "g.add_edge(0, 1, 1)\n",
    "g.add_edge(0, 2, 2)\n",
    "g.add_edge(0, 3, 1)\n",
    "g.add_edge(1, 5, 4)\n",
    "g.add_edge(1, 4, 10)\n",
    "g.add_edge(2, 1, 3)\n",
    "g.add_edge(2, 5, 1)\n",
    "g.add_edge(3, 4, 3)\n",
    "g.add_edge(4, 6, 6)\n",
    "g.add_edge(5, 6, 3)\n",
    "\n",
    "g.bellman_ford(0)"
   ]
  },
  {
   "cell_type": "code",
   "execution_count": 3,
   "id": "394ed496",
   "metadata": {},
   "outputs": [
    {
     "name": "stdout",
     "output_type": "stream",
     "text": [
      "The Shortest Path Distance from Source:\n",
      "Vertex: 0 \t\t Distance: 0\n",
      "Vertex: 1 \t\t Distance: 6\n",
      "Vertex: 2 \t\t Distance: 7\n",
      "Vertex: 3 \t\t Distance: 3\n",
      "Vertex: 4 \t\t Distance: 13\n"
     ]
    }
   ],
   "source": [
    "# Test case2\n",
    "g = Graph(5)\n",
    "g.add_edge(0, 1, 6)\n",
    "g.add_edge(0, 2, 7)\n",
    "g.add_edge(1, 2, 8)\n",
    "g.add_edge(1, 3, 5)\n",
    "g.add_edge(2, 3, -4)\n",
    "g.add_edge(2, 4, 9)\n",
    "g.add_edge(3, 4, 10)\n",
    "\n",
    "g.bellman_ford(0)"
   ]
  },
  {
   "cell_type": "code",
   "execution_count": 4,
   "id": "42a156a3",
   "metadata": {},
   "outputs": [
    {
     "name": "stdout",
     "output_type": "stream",
     "text": [
      "Graph contains negative weight cycle\n"
     ]
    }
   ],
   "source": [
    "# Test case3\n",
    "g = Graph(5)\n",
    "g.add_edge(0, 1, 6)\n",
    "g.add_edge(0, 2, 7)\n",
    "g.add_edge(1, 2, 8)\n",
    "g.add_edge(3, 1, 5)\n",
    "g.add_edge(2, 3, -100)\n",
    "g.add_edge(2, 4, 9)\n",
    "g.add_edge(3, 4, 10)\n",
    "\n",
    "g.bellman_ford(0)"
   ]
  },
  {
   "cell_type": "code",
   "execution_count": null,
   "id": "68d32d97",
   "metadata": {},
   "outputs": [],
   "source": []
  }
 ],
 "metadata": {
  "kernelspec": {
   "display_name": "Python 3 (ipykernel)",
   "language": "python",
   "name": "python3"
  },
  "language_info": {
   "codemirror_mode": {
    "name": "ipython",
    "version": 3
   },
   "file_extension": ".py",
   "mimetype": "text/x-python",
   "name": "python",
   "nbconvert_exporter": "python",
   "pygments_lexer": "ipython3",
   "version": "3.10.9"
  }
 },
 "nbformat": 4,
 "nbformat_minor": 5
}
